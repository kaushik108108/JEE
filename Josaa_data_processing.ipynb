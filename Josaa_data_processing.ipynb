{
 "cells": [
  {
   "cell_type": "code",
   "execution_count": 2,
   "id": "ea8a89cc",
   "metadata": {},
   "outputs": [],
   "source": [
    "import numpy as np\n",
    "import pandas as pd\n",
    "import matplotlib.pyplot as plt\n",
    "import seaborn as sns\n",
    "import re"
   ]
  },
  {
   "cell_type": "code",
   "execution_count": 3,
   "id": "e9a48f1a",
   "metadata": {},
   "outputs": [],
   "source": [
    "df16 = pd.read_csv('2016.csv')\n",
    "df17 = pd.read_csv('2017.csv')\n",
    "df18 = pd.read_csv('2018.csv')\n",
    "df19 = pd.read_csv('2019.csv')\n",
    "df20 = pd.read_csv('2020.csv')\n",
    "df21 = pd.read_csv('2021.csv')\n",
    "df22 = pd.read_csv('2022.csv')\n",
    "\n",
    "dfs = [df16, df17, df18, df19, df20, df21, df22]"
   ]
  },
  {
   "cell_type": "code",
   "execution_count": 4,
   "id": "e551c017",
   "metadata": {},
   "outputs": [
    {
     "name": "stdout",
     "output_type": "stream",
     "text": [
      "Index(['Institute', 'Academic Program Name', 'Quota', 'Seat Type', 'Gender',\n",
      "       'Opening Rank', 'Closing Rank', 'Year', 'Round'],\n",
      "      dtype='object') (25601, 9)\n",
      "Index(['Institute', 'Academic Program Name', 'Quota', 'Seat Type', 'Gender',\n",
      "       'Opening Rank', 'Closing Rank', 'Year', 'Round'],\n",
      "      dtype='object') (30177, 9)\n",
      "Index(['Institute', 'Academic Program Name', 'Quota', 'Seat Type', 'Gender',\n",
      "       'Opening Rank', 'Closing Rank', 'Year', 'Round'],\n",
      "      dtype='object') (47853, 9)\n",
      "Index(['Institute', 'Academic Program Name', 'Quota', 'Seat Type', 'Gender',\n",
      "       'Opening Rank', 'Closing Rank', 'Year', 'Round'],\n",
      "      dtype='object') (55285, 9)\n",
      "Index(['Institute', 'Academic Program Name', 'Quota', 'Seat Type', 'Gender',\n",
      "       'Opening Rank', 'Closing Rank', 'Year', 'Round'],\n",
      "      dtype='object') (54608, 9)\n",
      "Index(['Institute', 'Academic Program Name', 'Quota', 'Seat Type', 'Gender',\n",
      "       'Opening Rank', 'Closing Rank', 'Year', 'Round'],\n",
      "      dtype='object') (31890, 9)\n",
      "Index(['Institute', 'Academic Program Name', 'Quota', 'Seat Type', 'Gender',\n",
      "       'Opening Rank', 'Closing Rank', 'Year', 'Round'],\n",
      "      dtype='object') (58874, 9)\n"
     ]
    }
   ],
   "source": [
    "for df in dfs:\n",
    "    print(df.columns, df.shape)"
   ]
  },
  {
   "cell_type": "code",
   "execution_count": 5,
   "id": "fd7ecdc2",
   "metadata": {},
   "outputs": [
    {
     "data": {
      "text/plain": [
       "(304288, 9)"
      ]
     },
     "execution_count": 5,
     "metadata": {},
     "output_type": "execute_result"
    }
   ],
   "source": [
    "# Concatenate along rows (axis=0)\n",
    "data = pd.concat(dfs, axis=0)\n",
    "data.shape"
   ]
  },
  {
   "cell_type": "code",
   "execution_count": 6,
   "id": "70ff06fa",
   "metadata": {},
   "outputs": [
    {
     "data": {
      "text/plain": [
       "Institute                    0\n",
       "Academic Program Name        1\n",
       "Quota                        1\n",
       "Seat Type                    2\n",
       "Gender                   55781\n",
       "Opening Rank                 4\n",
       "Closing Rank                 4\n",
       "Year                         0\n",
       "Round                        0\n",
       "dtype: int64"
      ]
     },
     "execution_count": 6,
     "metadata": {},
     "output_type": "execute_result"
    }
   ],
   "source": [
    "data.isnull().sum()"
   ]
  },
  {
   "cell_type": "code",
   "execution_count": 7,
   "id": "ed823098",
   "metadata": {},
   "outputs": [
    {
     "name": "stdout",
     "output_type": "stream",
     "text": [
      "2016\n",
      "Series([], Name: count, dtype: int64) \n",
      "\n",
      "2017\n",
      "Series([], Name: count, dtype: int64) \n",
      "\n",
      "2018\n",
      "Gender\n",
      "Gender-Neutral                           30491\n",
      "Female-only (including Supernumerary)    17362\n",
      "Name: count, dtype: int64 \n",
      "\n",
      "2019\n",
      "Gender\n",
      "Gender-Neutral                           35222\n",
      "Female-only (including Supernumerary)    20062\n",
      "Name: count, dtype: int64 \n",
      "\n",
      "2020\n",
      "Gender\n",
      "Gender-Neutral                           34013\n",
      "Female-only (including Supernumerary)    20595\n",
      "Name: count, dtype: int64 \n",
      "\n",
      "2021\n",
      "Gender\n",
      "Gender-Neutral                           17900\n",
      "Female-only (including Supernumerary)    10908\n",
      "Name: count, dtype: int64 \n",
      "\n",
      "2022\n",
      "Gender\n",
      "Gender-Neutral                           37936\n",
      "Female-only (including Supernumerary)    24017\n",
      "F                                            1\n",
      "Name: count, dtype: int64 \n",
      "\n"
     ]
    }
   ],
   "source": [
    "years = [2016, 2017, 2018, 2019, 2020, 2021, 2022]\n",
    "for year in years:\n",
    "    print(year)\n",
    "    print(data[data['Year'] == year]['Gender'].value_counts(), \"\\n\")"
   ]
  },
  {
   "cell_type": "markdown",
   "id": "502c83e9",
   "metadata": {},
   "source": [
    "So, data for years 2016 and 2017 does not have gender mentioned, so lets keep the gender there as Gender-neutral. Aslo, there is one \"F\" value in Gender of 2022 data, most probably its Female but lets drop that because if it is not a female, then it will become an outlier which will screw our results."
   ]
  },
  {
   "cell_type": "code",
   "execution_count": 8,
   "id": "139ef7f4",
   "metadata": {},
   "outputs": [],
   "source": [
    "data['Gender'] = data['Gender'].fillna('Gender-Neutral')\n",
    "data = data.drop(data[data['Gender'] == 'F'].index)"
   ]
  },
  {
   "cell_type": "code",
   "execution_count": 9,
   "id": "01a36494",
   "metadata": {},
   "outputs": [
    {
     "data": {
      "text/plain": [
       "(304281, 9)"
      ]
     },
     "execution_count": 9,
     "metadata": {},
     "output_type": "execute_result"
    }
   ],
   "source": [
    "data.shape"
   ]
  },
  {
   "cell_type": "code",
   "execution_count": 10,
   "id": "fbdefe3e",
   "metadata": {},
   "outputs": [
    {
     "data": {
      "text/plain": [
       "Institute                  123\n",
       "Academic Program Name      265\n",
       "Quota                        7\n",
       "Seat Type                   10\n",
       "Gender                       2\n",
       "Opening Rank             41237\n",
       "Closing Rank             56271\n",
       "Year                         7\n",
       "Round                        7\n",
       "dtype: int64"
      ]
     },
     "execution_count": 10,
     "metadata": {},
     "output_type": "execute_result"
    }
   ],
   "source": [
    "data.nunique()"
   ]
  },
  {
   "cell_type": "code",
   "execution_count": 11,
   "id": "79b55981",
   "metadata": {},
   "outputs": [
    {
     "name": "stdout",
     "output_type": "stream",
     "text": [
      "<class 'pandas.core.frame.DataFrame'>\n",
      "Index: 304281 entries, 0 to 58873\n",
      "Data columns (total 9 columns):\n",
      " #   Column                 Non-Null Count   Dtype \n",
      "---  ------                 --------------   ----- \n",
      " 0   Institute              304281 non-null  object\n",
      " 1   Academic Program Name  304280 non-null  object\n",
      " 2   Quota                  304280 non-null  object\n",
      " 3   Seat Type              304279 non-null  object\n",
      " 4   Gender                 304281 non-null  object\n",
      " 5   Opening Rank           304278 non-null  object\n",
      " 6   Closing Rank           304278 non-null  object\n",
      " 7   Year                   304281 non-null  int64 \n",
      " 8   Round                  304281 non-null  int64 \n",
      "dtypes: int64(2), object(7)\n",
      "memory usage: 23.2+ MB\n"
     ]
    }
   ],
   "source": [
    "data.info()"
   ]
  },
  {
   "cell_type": "code",
   "execution_count": 12,
   "id": "36e0e563",
   "metadata": {},
   "outputs": [
    {
     "data": {
      "text/plain": [
       "Institute                0\n",
       "Academic Program Name    1\n",
       "Quota                    1\n",
       "Seat Type                2\n",
       "Gender                   0\n",
       "Opening Rank             3\n",
       "Closing Rank             3\n",
       "Year                     0\n",
       "Round                    0\n",
       "dtype: int64"
      ]
     },
     "execution_count": 12,
     "metadata": {},
     "output_type": "execute_result"
    }
   ],
   "source": [
    "data.isnull().sum()"
   ]
  },
  {
   "cell_type": "code",
   "execution_count": 13,
   "id": "66f56cec",
   "metadata": {},
   "outputs": [
    {
     "data": {
      "text/plain": [
       "(304278, 9)"
      ]
     },
     "execution_count": 13,
     "metadata": {},
     "output_type": "execute_result"
    }
   ],
   "source": [
    "data = data.dropna()\n",
    "data.shape"
   ]
  },
  {
   "cell_type": "markdown",
   "id": "ac8637ba",
   "metadata": {},
   "source": [
    "Why closing and opening ranks are object? There are some ranks where letter P is present for preperatory courses"
   ]
  },
  {
   "cell_type": "code",
   "execution_count": 14,
   "id": "3bae82dc",
   "metadata": {},
   "outputs": [],
   "source": [
    "count = 0\n",
    "a = []\n",
    "for i in data['Closing Rank']:\n",
    "    try:\n",
    "        int(i)\n",
    "    except:\n",
    "        count += 1\n",
    "        a.append(i)\n",
    "    "
   ]
  },
  {
   "cell_type": "code",
   "execution_count": 15,
   "id": "89e36b91",
   "metadata": {},
   "outputs": [
    {
     "name": "stdout",
     "output_type": "stream",
     "text": [
      "5589 ['119P', '50P', '50P', '64P', '197P', '3P', '7P', '159P', '15P', '1P', '19P', '45P', '150P', '4P', '238P', '580P', '1061P', '262P', '5P', '145P']\n"
     ]
    }
   ],
   "source": [
    "print(count, a[:20])"
   ]
  },
  {
   "cell_type": "markdown",
   "id": "68c76926",
   "metadata": {},
   "source": [
    "These all are Preperatory closing ranks. We will drop them."
   ]
  },
  {
   "cell_type": "code",
   "execution_count": 16,
   "id": "01e295de",
   "metadata": {},
   "outputs": [
    {
     "data": {
      "text/plain": [
       "(298740, 9)"
      ]
     },
     "execution_count": 16,
     "metadata": {},
     "output_type": "execute_result"
    }
   ],
   "source": [
    "data['Opening Rank'] = pd.to_numeric(data['Opening Rank'], errors='coerce')\n",
    "data['Closing Rank'] = pd.to_numeric(data['Closing Rank'], errors='coerce')\n",
    "data = data.dropna(subset=['Opening Rank', 'Closing Rank'])\n",
    "data.shape"
   ]
  },
  {
   "cell_type": "code",
   "execution_count": 17,
   "id": "1a3d9c8d",
   "metadata": {},
   "outputs": [
    {
     "data": {
      "text/plain": [
       "array(['AI', 'HS', 'OS', 'AP', 'GO', 'JK', 'LA'], dtype=object)"
      ]
     },
     "execution_count": 17,
     "metadata": {},
     "output_type": "execute_result"
    }
   ],
   "source": [
    "data.Quota.unique()"
   ]
  },
  {
   "cell_type": "markdown",
   "id": "59dc5819",
   "metadata": {},
   "source": [
    "From the unique quota values, one thing to note that many of this quotas are applicable to NIT+ system. IITs have no such quotas, so will fiter only IIT colleges first"
   ]
  },
  {
   "cell_type": "code",
   "execution_count": 18,
   "id": "6d73399f",
   "metadata": {},
   "outputs": [
    {
     "data": {
      "text/plain": [
       "array(['Indian Institute of Technology Bhubaneswar',\n",
       "       'Indian Institute of Technology Bombay',\n",
       "       'Indian Institute of Technology Mandi',\n",
       "       'Indian Institute of Technology Delhi',\n",
       "       'Indian Institute of Technology Indore',\n",
       "       'Indian Institute of Technology Kharagpur',\n",
       "       'Indian Institute of Technology Hyderabad',\n",
       "       'Indian Institute of Technology Jodhpur',\n",
       "       'Indian Institute of Technology Kanpur',\n",
       "       'Indian Institute of Technology Madras',\n",
       "       'Indian Institute of Technology Gandhinagar',\n",
       "       'Indian Institute of Technology Patna',\n",
       "       'Indian Institute of Technology Roorkee',\n",
       "       'Indian School of Mines Dhanbad',\n",
       "       'Indian Institute of Technology Ropar',\n",
       "       'Indian Institute of Technology (BHU) Varanasi',\n",
       "       'Indian Institute of Technology Guwahati',\n",
       "       'Indian Institute of Technology Bhilai',\n",
       "       'Indian Institute of Technology Goa',\n",
       "       'Indian Institute of Technology Palakkad',\n",
       "       'Indian Institute of Technology Tirupati',\n",
       "       'Indian Institute of Technology Jammu',\n",
       "       'Indian Institute of Technology Dharwad',\n",
       "       'Dr. B R Ambedkar National Institute of Technology, Jalandhar',\n",
       "       'Malaviya National Institute of Technology Jaipur',\n",
       "       'Maulana Azad National Institute of Technology Bhopal',\n",
       "       'Motilal Nehru National Institute of Technology Allahabad',\n",
       "       'National Institute of Technology Agartala',\n",
       "       'National Institute of Technology Calicut',\n",
       "       'National Institute of Technology Delhi',\n",
       "       'National Institute of Technology Durgapur',\n",
       "       'National Institute of Technology Goa',\n",
       "       'National Institute of Technology Hamirpur',\n",
       "       'National Institute of Technology Karnataka, Surathkal',\n",
       "       'National Institute of Technology Meghalaya',\n",
       "       'National Institute of Technology Nagaland',\n",
       "       'National Institute of Technology Patna',\n",
       "       'National Institute of Technology Puducherry',\n",
       "       'National Institute of Technology Raipur',\n",
       "       'National Institute of Technology Sikkim',\n",
       "       'National Institute of Technology Arunachal Pradesh',\n",
       "       'National Institute of Technology, Jamshedpur',\n",
       "       'National Institute of Technology, Kurukshetra',\n",
       "       'National Institute of Technology, Manipur',\n",
       "       'National Institute of Technology, Mizoram',\n",
       "       'National Institute of Technology, Rourkela',\n",
       "       'National Institute of Technology, Silchar',\n",
       "       'National Institute of Technology, Srinagar',\n",
       "       'National Institute of Technology, Tiruchirappalli',\n",
       "       'National Institute of Technology, Uttarakhand',\n",
       "       'National Institute of Technology, Warangal',\n",
       "       'Sardar Vallabhbhai National Institute of Technology, Surat',\n",
       "       'Visvesvaraya National Institute of Technology, Nagpur',\n",
       "       'National Institute of Technology, Andhra Pradesh',\n",
       "       'Indian Institute of Engineering Science and Technology, Shibpur',\n",
       "       'Atal Bihari Vajpayee Indian Institute of Information Technology & Management Gwalior',\n",
       "       'Indian Institute of Information Technology (IIIT)Kota, Rajasthan',\n",
       "       'Indian Institute of Information Technology Guwahati',\n",
       "       'Indian Institute of Information Technology(IIIT) Kalyani, West Bengal',\n",
       "       'Indian Institute of Information Technology(IIIT) Kilohrad, Sonepat, Haryana',\n",
       "       'Indian Institute of Information Technology(IIIT) Una, Himachal Pradesh',\n",
       "       'Indian Institute of Information Technology(IIIT), Sri City, Chittoor District, Andra Pradesh',\n",
       "       'Indian Institute of Information Technology(IIIT), Vadodara, Gujrat',\n",
       "       'Indian Institute of Information Technology, Allahabad',\n",
       "       'Indian Institute of Information Technology, Design & Manufacturing, Kancheepuram',\n",
       "       'Pt. Dwarka Prasad Mishra Indian Institute of Information Technology, Design & Manufacture Jabalpur',\n",
       "       'Indian Institute of Information Technology Manipur',\n",
       "       'Indian Institute of Information Technology Srirangam, Tiruchirappalli',\n",
       "       'Indian Institute of Information Technology Lucknow',\n",
       "       'Indian Institute of Information Technology(IIIT) Dharwad',\n",
       "       'Indian Institute of Information Technology Design & Manufacturing Kurnool, Andhra Pradesh',\n",
       "       'Indian Institute of Information Technology(IIIT) Kottayam',\n",
       "       'Indian Institute of Information Technology (IIIT) Ranchi',\n",
       "       'Indian Institute of Information Technology (IIIT) Nagpur',\n",
       "       'Indian Institute of Information Technology (IIIT) Pune',\n",
       "       'Assam University, Silchar',\n",
       "       'Birla Institute of Technology, Mesra, Ranchi',\n",
       "       'Gurukula Kangri Vishwavidyalaya, Haridwar',\n",
       "       'Indian Institute of Carpet Technology, Bhadohi',\n",
       "       'Institute of Infrastructure, Technology, Research and Management-Ahmedabad',\n",
       "       'Institute of Technology, Guru Ghasidas Vishwavidyalaya (A Central University), Bilaspur, (C.G.)',\n",
       "       'J.K. Institute of Applied Physics & Technology, Department of Electronics & Communication, University of Allahabad- Allahabad',\n",
       "       'National Institute of Electronics and Information Technology, Aurangabad (Maharashtra)',\n",
       "       'National Institute of Foundry & Forge Technology, Hatia, Ranchi',\n",
       "       'Sant Longowal Institute of Engineering and Technology',\n",
       "       'Mizoram University, Aizawl',\n",
       "       'School of Engineering, Tezpur University, Napaam, Tezpur',\n",
       "       'School of Planning & Architecture, Bhopal',\n",
       "       'School of Planning & Architecture, New Delhi',\n",
       "       'School of Planning & Architecture: Vijayawada',\n",
       "       'Shri Mata Vaishno Devi University, Katra, Jammu & Kashmir',\n",
       "       'Indian Institute of Crop Processing Technology, Thanjavur, Tamilnadu',\n",
       "       'Indian Institute of Technology (ISM) Dhanbad',\n",
       "       'Indian Institute of Information Technology(IIIT), Sri City, Chittoor District, Andhra Pradesh',\n",
       "       'Indian Institute of Information Technology Bhagalpur',\n",
       "       'Indian Institute of Information Technology Bhopal',\n",
       "       'Indian Institute of Information Technology Surat',\n",
       "       'HNB Garhwal University Srinagar (Garhwal)',\n",
       "       'International Institute of Information Technology, Naya Raipur',\n",
       "       'University of Hyderabad',\n",
       "       'Indian Institute of Information Technology (IIIT), Sri City, Chittoor',\n",
       "       'Punjab Engineering College, Chandigarh',\n",
       "       'Jawaharlal Nehru University, Delhi',\n",
       "       'International Institute of Information Technology, Bhubaneswar',\n",
       "       'Indian Institute of Information Technology, Agartala',\n",
       "       'Indian institute of information technology, Raichur, Karnataka',\n",
       "       'Central institute of Technology Kokrajar, Assam',\n",
       "       'Pondicherry Engineering College, Puducherry',\n",
       "       'Ghani Khan Choudhary Institute of Engineering and Technology, Malda, West Bengal',\n",
       "       'Central University of Rajasthan, Rajasthan',\n",
       "       'National Institute of Food Technology Entrepreneurship and Management, Sonepat, Haryana',\n",
       "       'Indian Institute of Information Technology, Vadodara International Campus Diu (IIITVICD)',\n",
       "       'lndian Institute of Food Processing Technology, Thanjavur, Tamil Naidu.',\n",
       "       'North Eastern Regional Institute of Science and Technology, Nirjuli-791109 (Itanagar),Arunachal Pradesh',\n",
       "       'Indian Institute of Information Technology Tiruchirappalli',\n",
       "       'Indian Institute of Handloom Technology(IIHT), Varanasi',\n",
       "       'Chhattisgarh Swami Vivekanada Technical University, Bhilai (CSVTU Bhilai)',\n",
       "       'Institute of Chemical Technology, Mumbai: Indian Oil Odisha Campus, Bhubaneswar',\n",
       "       'North-Eastern Hill University, Shillong',\n",
       "       'National Institute of Advanced Manufacturing Technology, Ranchi',\n",
       "       'Puducherry Technological University, Puducherry',\n",
       "       'National Institute of Food Technology, Entrepreneurship and Management (NIFTEM) - Thanjavur',\n",
       "       'Central University of Jammu'], dtype=object)"
      ]
     },
     "execution_count": 18,
     "metadata": {},
     "output_type": "execute_result"
    }
   ],
   "source": [
    "data.Institute.unique()"
   ]
  },
  {
   "cell_type": "code",
   "execution_count": 19,
   "id": "1ed93fae",
   "metadata": {},
   "outputs": [
    {
     "data": {
      "text/plain": [
       "array(['Indian Institute of Technology Bhubaneswar',\n",
       "       'Indian Institute of Technology Bombay',\n",
       "       'Indian Institute of Technology Mandi',\n",
       "       'Indian Institute of Technology Delhi',\n",
       "       'Indian Institute of Technology Indore',\n",
       "       'Indian Institute of Technology Kharagpur',\n",
       "       'Indian Institute of Technology Hyderabad',\n",
       "       'Indian Institute of Technology Jodhpur',\n",
       "       'Indian Institute of Technology Kanpur',\n",
       "       'Indian Institute of Technology Madras',\n",
       "       'Indian Institute of Technology Gandhinagar',\n",
       "       'Indian Institute of Technology Patna',\n",
       "       'Indian Institute of Technology Roorkee',\n",
       "       'Indian Institute of Technology Ropar',\n",
       "       'Indian Institute of Technology (BHU) Varanasi',\n",
       "       'Indian Institute of Technology Guwahati',\n",
       "       'Indian Institute of Technology Bhilai',\n",
       "       'Indian Institute of Technology Goa',\n",
       "       'Indian Institute of Technology Palakkad',\n",
       "       'Indian Institute of Technology Tirupati',\n",
       "       'Indian Institute of Technology Jammu',\n",
       "       'Indian Institute of Technology Dharwad',\n",
       "       'Indian Institute of Technology (ISM) Dhanbad'], dtype=object)"
      ]
     },
     "execution_count": 19,
     "metadata": {},
     "output_type": "execute_result"
    }
   ],
   "source": [
    "data_iits = data[data['Institute'].str.contains(r'^Indian Institute of Technology')]\n",
    "data_iits.Institute.unique()"
   ]
  },
  {
   "cell_type": "code",
   "execution_count": 20,
   "id": "87476afd",
   "metadata": {},
   "outputs": [
    {
     "name": "stdout",
     "output_type": "stream",
     "text": [
      "<class 'pandas.core.frame.DataFrame'>\n",
      "Index: 84083 entries, 0 to 51944\n",
      "Data columns (total 9 columns):\n",
      " #   Column                 Non-Null Count  Dtype  \n",
      "---  ------                 --------------  -----  \n",
      " 0   Institute              84083 non-null  object \n",
      " 1   Academic Program Name  84083 non-null  object \n",
      " 2   Quota                  84083 non-null  object \n",
      " 3   Seat Type              84083 non-null  object \n",
      " 4   Gender                 84083 non-null  object \n",
      " 5   Opening Rank           84083 non-null  float64\n",
      " 6   Closing Rank           84083 non-null  float64\n",
      " 7   Year                   84083 non-null  int64  \n",
      " 8   Round                  84083 non-null  int64  \n",
      "dtypes: float64(2), int64(2), object(5)\n",
      "memory usage: 6.4+ MB\n"
     ]
    }
   ],
   "source": [
    "data_iits.info()"
   ]
  },
  {
   "cell_type": "code",
   "execution_count": 21,
   "id": "259ffd3f",
   "metadata": {},
   "outputs": [
    {
     "data": {
      "text/plain": [
       "Institute                0\n",
       "Academic Program Name    0\n",
       "Quota                    0\n",
       "Seat Type                0\n",
       "Gender                   0\n",
       "Opening Rank             0\n",
       "Closing Rank             0\n",
       "Year                     0\n",
       "Round                    0\n",
       "dtype: int64"
      ]
     },
     "execution_count": 21,
     "metadata": {},
     "output_type": "execute_result"
    }
   ],
   "source": [
    "data_iits.isnull().sum()"
   ]
  },
  {
   "cell_type": "code",
   "execution_count": 22,
   "id": "e41a87dd",
   "metadata": {},
   "outputs": [],
   "source": [
    "data_iits2 = data_iits.dropna()"
   ]
  },
  {
   "cell_type": "code",
   "execution_count": 23,
   "id": "56b47a9b",
   "metadata": {},
   "outputs": [
    {
     "data": {
      "text/plain": [
       "(84083, 9)"
      ]
     },
     "execution_count": 23,
     "metadata": {},
     "output_type": "execute_result"
    }
   ],
   "source": [
    "data_iits2.shape"
   ]
  },
  {
   "cell_type": "code",
   "execution_count": 24,
   "id": "38fbc15b",
   "metadata": {},
   "outputs": [
    {
     "name": "stdout",
     "output_type": "stream",
     "text": [
      "<class 'pandas.core.frame.DataFrame'>\n",
      "Index: 84083 entries, 0 to 51944\n",
      "Data columns (total 9 columns):\n",
      " #   Column                 Non-Null Count  Dtype  \n",
      "---  ------                 --------------  -----  \n",
      " 0   Institute              84083 non-null  object \n",
      " 1   Academic Program Name  84083 non-null  object \n",
      " 2   Quota                  84083 non-null  object \n",
      " 3   Seat Type              84083 non-null  object \n",
      " 4   Gender                 84083 non-null  object \n",
      " 5   Opening Rank           84083 non-null  float64\n",
      " 6   Closing Rank           84083 non-null  float64\n",
      " 7   Year                   84083 non-null  int64  \n",
      " 8   Round                  84083 non-null  int64  \n",
      "dtypes: float64(2), int64(2), object(5)\n",
      "memory usage: 6.4+ MB\n"
     ]
    }
   ],
   "source": [
    "data_iits2.info()"
   ]
  },
  {
   "cell_type": "code",
   "execution_count": 25,
   "id": "858858bc",
   "metadata": {},
   "outputs": [
    {
     "data": {
      "text/html": [
       "<div>\n",
       "<style scoped>\n",
       "    .dataframe tbody tr th:only-of-type {\n",
       "        vertical-align: middle;\n",
       "    }\n",
       "\n",
       "    .dataframe tbody tr th {\n",
       "        vertical-align: top;\n",
       "    }\n",
       "\n",
       "    .dataframe thead th {\n",
       "        text-align: right;\n",
       "    }\n",
       "</style>\n",
       "<table border=\"1\" class=\"dataframe\">\n",
       "  <thead>\n",
       "    <tr style=\"text-align: right;\">\n",
       "      <th></th>\n",
       "      <th>Institute</th>\n",
       "      <th>Academic Program Name</th>\n",
       "      <th>Quota</th>\n",
       "      <th>Seat Type</th>\n",
       "      <th>Gender</th>\n",
       "      <th>Opening Rank</th>\n",
       "      <th>Closing Rank</th>\n",
       "      <th>Year</th>\n",
       "      <th>Round</th>\n",
       "    </tr>\n",
       "  </thead>\n",
       "  <tbody>\n",
       "    <tr>\n",
       "      <th>0</th>\n",
       "      <td>Indian Institute of Technology Bhubaneswar</td>\n",
       "      <td>Civil Engineering (4 Years, Bachelor of Techno...</td>\n",
       "      <td>AI</td>\n",
       "      <td>OPEN</td>\n",
       "      <td>Gender-Neutral</td>\n",
       "      <td>3533.0</td>\n",
       "      <td>5947.0</td>\n",
       "      <td>2016</td>\n",
       "      <td>1</td>\n",
       "    </tr>\n",
       "    <tr>\n",
       "      <th>1</th>\n",
       "      <td>Indian Institute of Technology Bhubaneswar</td>\n",
       "      <td>Civil Engineering (4 Years, Bachelor of Techno...</td>\n",
       "      <td>AI</td>\n",
       "      <td>OBC-NCL</td>\n",
       "      <td>Gender-Neutral</td>\n",
       "      <td>1829.0</td>\n",
       "      <td>2213.0</td>\n",
       "      <td>2016</td>\n",
       "      <td>1</td>\n",
       "    </tr>\n",
       "    <tr>\n",
       "      <th>2</th>\n",
       "      <td>Indian Institute of Technology Bhubaneswar</td>\n",
       "      <td>Civil Engineering (4 Years, Bachelor of Techno...</td>\n",
       "      <td>AI</td>\n",
       "      <td>SC</td>\n",
       "      <td>Gender-Neutral</td>\n",
       "      <td>663.0</td>\n",
       "      <td>1023.0</td>\n",
       "      <td>2016</td>\n",
       "      <td>1</td>\n",
       "    </tr>\n",
       "    <tr>\n",
       "      <th>3</th>\n",
       "      <td>Indian Institute of Technology Bhubaneswar</td>\n",
       "      <td>Civil Engineering (4 Years, Bachelor of Techno...</td>\n",
       "      <td>AI</td>\n",
       "      <td>ST</td>\n",
       "      <td>Gender-Neutral</td>\n",
       "      <td>331.0</td>\n",
       "      <td>357.0</td>\n",
       "      <td>2016</td>\n",
       "      <td>1</td>\n",
       "    </tr>\n",
       "    <tr>\n",
       "      <th>4</th>\n",
       "      <td>Indian Institute of Technology Bhubaneswar</td>\n",
       "      <td>Civil Engineering and M. Tech. in Structural E...</td>\n",
       "      <td>AI</td>\n",
       "      <td>OPEN</td>\n",
       "      <td>Gender-Neutral</td>\n",
       "      <td>5408.0</td>\n",
       "      <td>6561.0</td>\n",
       "      <td>2016</td>\n",
       "      <td>1</td>\n",
       "    </tr>\n",
       "  </tbody>\n",
       "</table>\n",
       "</div>"
      ],
      "text/plain": [
       "                                    Institute  \\\n",
       "0  Indian Institute of Technology Bhubaneswar   \n",
       "1  Indian Institute of Technology Bhubaneswar   \n",
       "2  Indian Institute of Technology Bhubaneswar   \n",
       "3  Indian Institute of Technology Bhubaneswar   \n",
       "4  Indian Institute of Technology Bhubaneswar   \n",
       "\n",
       "                               Academic Program Name Quota Seat Type  \\\n",
       "0  Civil Engineering (4 Years, Bachelor of Techno...    AI      OPEN   \n",
       "1  Civil Engineering (4 Years, Bachelor of Techno...    AI   OBC-NCL   \n",
       "2  Civil Engineering (4 Years, Bachelor of Techno...    AI        SC   \n",
       "3  Civil Engineering (4 Years, Bachelor of Techno...    AI        ST   \n",
       "4  Civil Engineering and M. Tech. in Structural E...    AI      OPEN   \n",
       "\n",
       "           Gender  Opening Rank  Closing Rank  Year  Round  \n",
       "0  Gender-Neutral        3533.0        5947.0  2016      1  \n",
       "1  Gender-Neutral        1829.0        2213.0  2016      1  \n",
       "2  Gender-Neutral         663.0        1023.0  2016      1  \n",
       "3  Gender-Neutral         331.0         357.0  2016      1  \n",
       "4  Gender-Neutral        5408.0        6561.0  2016      1  "
      ]
     },
     "execution_count": 25,
     "metadata": {},
     "output_type": "execute_result"
    }
   ],
   "source": [
    "data_iits2.head()"
   ]
  },
  {
   "cell_type": "code",
   "execution_count": 26,
   "id": "7d8c71ef",
   "metadata": {},
   "outputs": [
    {
     "data": {
      "text/plain": [
       "array(['AI'], dtype=object)"
      ]
     },
     "execution_count": 26,
     "metadata": {},
     "output_type": "execute_result"
    }
   ],
   "source": [
    "data_iits2.Quota.unique()"
   ]
  },
  {
   "cell_type": "markdown",
   "id": "33e3d23d",
   "metadata": {},
   "source": [
    "Only one unique value in Quota, so can drop it"
   ]
  },
  {
   "cell_type": "code",
   "execution_count": 27,
   "id": "7d8ad884",
   "metadata": {},
   "outputs": [],
   "source": [
    "data_iits3 = data_iits2.drop(['Quota'], axis = 1)"
   ]
  },
  {
   "cell_type": "code",
   "execution_count": 28,
   "id": "693b266b",
   "metadata": {},
   "outputs": [
    {
     "data": {
      "text/html": [
       "<div>\n",
       "<style scoped>\n",
       "    .dataframe tbody tr th:only-of-type {\n",
       "        vertical-align: middle;\n",
       "    }\n",
       "\n",
       "    .dataframe tbody tr th {\n",
       "        vertical-align: top;\n",
       "    }\n",
       "\n",
       "    .dataframe thead th {\n",
       "        text-align: right;\n",
       "    }\n",
       "</style>\n",
       "<table border=\"1\" class=\"dataframe\">\n",
       "  <thead>\n",
       "    <tr style=\"text-align: right;\">\n",
       "      <th></th>\n",
       "      <th>Institute</th>\n",
       "      <th>Academic Program Name</th>\n",
       "      <th>Seat Type</th>\n",
       "      <th>Gender</th>\n",
       "      <th>Opening Rank</th>\n",
       "      <th>Closing Rank</th>\n",
       "      <th>Year</th>\n",
       "      <th>Round</th>\n",
       "    </tr>\n",
       "  </thead>\n",
       "  <tbody>\n",
       "    <tr>\n",
       "      <th>0</th>\n",
       "      <td>Indian Institute of Technology Bhubaneswar</td>\n",
       "      <td>Civil Engineering (4 Years, Bachelor of Techno...</td>\n",
       "      <td>OPEN</td>\n",
       "      <td>Gender-Neutral</td>\n",
       "      <td>3533.0</td>\n",
       "      <td>5947.0</td>\n",
       "      <td>2016</td>\n",
       "      <td>1</td>\n",
       "    </tr>\n",
       "    <tr>\n",
       "      <th>1</th>\n",
       "      <td>Indian Institute of Technology Bhubaneswar</td>\n",
       "      <td>Civil Engineering (4 Years, Bachelor of Techno...</td>\n",
       "      <td>OBC-NCL</td>\n",
       "      <td>Gender-Neutral</td>\n",
       "      <td>1829.0</td>\n",
       "      <td>2213.0</td>\n",
       "      <td>2016</td>\n",
       "      <td>1</td>\n",
       "    </tr>\n",
       "    <tr>\n",
       "      <th>2</th>\n",
       "      <td>Indian Institute of Technology Bhubaneswar</td>\n",
       "      <td>Civil Engineering (4 Years, Bachelor of Techno...</td>\n",
       "      <td>SC</td>\n",
       "      <td>Gender-Neutral</td>\n",
       "      <td>663.0</td>\n",
       "      <td>1023.0</td>\n",
       "      <td>2016</td>\n",
       "      <td>1</td>\n",
       "    </tr>\n",
       "    <tr>\n",
       "      <th>3</th>\n",
       "      <td>Indian Institute of Technology Bhubaneswar</td>\n",
       "      <td>Civil Engineering (4 Years, Bachelor of Techno...</td>\n",
       "      <td>ST</td>\n",
       "      <td>Gender-Neutral</td>\n",
       "      <td>331.0</td>\n",
       "      <td>357.0</td>\n",
       "      <td>2016</td>\n",
       "      <td>1</td>\n",
       "    </tr>\n",
       "    <tr>\n",
       "      <th>4</th>\n",
       "      <td>Indian Institute of Technology Bhubaneswar</td>\n",
       "      <td>Civil Engineering and M. Tech. in Structural E...</td>\n",
       "      <td>OPEN</td>\n",
       "      <td>Gender-Neutral</td>\n",
       "      <td>5408.0</td>\n",
       "      <td>6561.0</td>\n",
       "      <td>2016</td>\n",
       "      <td>1</td>\n",
       "    </tr>\n",
       "    <tr>\n",
       "      <th>...</th>\n",
       "      <td>...</td>\n",
       "      <td>...</td>\n",
       "      <td>...</td>\n",
       "      <td>...</td>\n",
       "      <td>...</td>\n",
       "      <td>...</td>\n",
       "      <td>...</td>\n",
       "      <td>...</td>\n",
       "    </tr>\n",
       "    <tr>\n",
       "      <th>51940</th>\n",
       "      <td>Indian Institute of Technology Dharwad</td>\n",
       "      <td>Mechanical Engineering (4 Years, Bachelor of T...</td>\n",
       "      <td>OBC-NCL</td>\n",
       "      <td>Female-only (including Supernumerary)</td>\n",
       "      <td>7459.0</td>\n",
       "      <td>8884.0</td>\n",
       "      <td>2022</td>\n",
       "      <td>6</td>\n",
       "    </tr>\n",
       "    <tr>\n",
       "      <th>51941</th>\n",
       "      <td>Indian Institute of Technology Dharwad</td>\n",
       "      <td>Mechanical Engineering (4 Years, Bachelor of T...</td>\n",
       "      <td>SC</td>\n",
       "      <td>Gender-Neutral</td>\n",
       "      <td>1709.0</td>\n",
       "      <td>2379.0</td>\n",
       "      <td>2022</td>\n",
       "      <td>6</td>\n",
       "    </tr>\n",
       "    <tr>\n",
       "      <th>51942</th>\n",
       "      <td>Indian Institute of Technology Dharwad</td>\n",
       "      <td>Mechanical Engineering (4 Years, Bachelor of T...</td>\n",
       "      <td>SC</td>\n",
       "      <td>Female-only (including Supernumerary)</td>\n",
       "      <td>3122.0</td>\n",
       "      <td>3122.0</td>\n",
       "      <td>2022</td>\n",
       "      <td>6</td>\n",
       "    </tr>\n",
       "    <tr>\n",
       "      <th>51943</th>\n",
       "      <td>Indian Institute of Technology Dharwad</td>\n",
       "      <td>Mechanical Engineering (4 Years, Bachelor of T...</td>\n",
       "      <td>ST</td>\n",
       "      <td>Gender-Neutral</td>\n",
       "      <td>1044.0</td>\n",
       "      <td>1095.0</td>\n",
       "      <td>2022</td>\n",
       "      <td>6</td>\n",
       "    </tr>\n",
       "    <tr>\n",
       "      <th>51944</th>\n",
       "      <td>Indian Institute of Technology Dharwad</td>\n",
       "      <td>Mechanical Engineering (4 Years, Bachelor of T...</td>\n",
       "      <td>ST</td>\n",
       "      <td>Female-only (including Supernumerary)</td>\n",
       "      <td>1389.0</td>\n",
       "      <td>1389.0</td>\n",
       "      <td>2022</td>\n",
       "      <td>6</td>\n",
       "    </tr>\n",
       "  </tbody>\n",
       "</table>\n",
       "<p>84083 rows × 8 columns</p>\n",
       "</div>"
      ],
      "text/plain": [
       "                                        Institute  \\\n",
       "0      Indian Institute of Technology Bhubaneswar   \n",
       "1      Indian Institute of Technology Bhubaneswar   \n",
       "2      Indian Institute of Technology Bhubaneswar   \n",
       "3      Indian Institute of Technology Bhubaneswar   \n",
       "4      Indian Institute of Technology Bhubaneswar   \n",
       "...                                           ...   \n",
       "51940      Indian Institute of Technology Dharwad   \n",
       "51941      Indian Institute of Technology Dharwad   \n",
       "51942      Indian Institute of Technology Dharwad   \n",
       "51943      Indian Institute of Technology Dharwad   \n",
       "51944      Indian Institute of Technology Dharwad   \n",
       "\n",
       "                                   Academic Program Name Seat Type  \\\n",
       "0      Civil Engineering (4 Years, Bachelor of Techno...      OPEN   \n",
       "1      Civil Engineering (4 Years, Bachelor of Techno...   OBC-NCL   \n",
       "2      Civil Engineering (4 Years, Bachelor of Techno...        SC   \n",
       "3      Civil Engineering (4 Years, Bachelor of Techno...        ST   \n",
       "4      Civil Engineering and M. Tech. in Structural E...      OPEN   \n",
       "...                                                  ...       ...   \n",
       "51940  Mechanical Engineering (4 Years, Bachelor of T...   OBC-NCL   \n",
       "51941  Mechanical Engineering (4 Years, Bachelor of T...        SC   \n",
       "51942  Mechanical Engineering (4 Years, Bachelor of T...        SC   \n",
       "51943  Mechanical Engineering (4 Years, Bachelor of T...        ST   \n",
       "51944  Mechanical Engineering (4 Years, Bachelor of T...        ST   \n",
       "\n",
       "                                      Gender  Opening Rank  Closing Rank  \\\n",
       "0                             Gender-Neutral        3533.0        5947.0   \n",
       "1                             Gender-Neutral        1829.0        2213.0   \n",
       "2                             Gender-Neutral         663.0        1023.0   \n",
       "3                             Gender-Neutral         331.0         357.0   \n",
       "4                             Gender-Neutral        5408.0        6561.0   \n",
       "...                                      ...           ...           ...   \n",
       "51940  Female-only (including Supernumerary)        7459.0        8884.0   \n",
       "51941                         Gender-Neutral        1709.0        2379.0   \n",
       "51942  Female-only (including Supernumerary)        3122.0        3122.0   \n",
       "51943                         Gender-Neutral        1044.0        1095.0   \n",
       "51944  Female-only (including Supernumerary)        1389.0        1389.0   \n",
       "\n",
       "       Year  Round  \n",
       "0      2016      1  \n",
       "1      2016      1  \n",
       "2      2016      1  \n",
       "3      2016      1  \n",
       "4      2016      1  \n",
       "...     ...    ...  \n",
       "51940  2022      6  \n",
       "51941  2022      6  \n",
       "51942  2022      6  \n",
       "51943  2022      6  \n",
       "51944  2022      6  \n",
       "\n",
       "[84083 rows x 8 columns]"
      ]
     },
     "execution_count": 28,
     "metadata": {},
     "output_type": "execute_result"
    }
   ],
   "source": [
    "data_iits3"
   ]
  },
  {
   "cell_type": "code",
   "execution_count": 29,
   "id": "f81b574a",
   "metadata": {},
   "outputs": [
    {
     "name": "stdout",
     "output_type": "stream",
     "text": [
      "2016\n",
      "[1 2 3 4 5 6]\n",
      "2017\n",
      "[1 2 3 4 5 6 7]\n",
      "2018\n",
      "[1 2 3 4 5 6 7]\n",
      "2019\n",
      "[1 2 3 4 5 6 7]\n",
      "2020\n",
      "[1 2 3 4 5 6]\n",
      "2021\n",
      "[1 2 3 5 6]\n",
      "2022\n",
      "[4 1 2 3 5 6]\n"
     ]
    },
    {
     "data": {
      "text/plain": [
       "[6, 7, 7, 7, 6, 6, 6]"
      ]
     },
     "execution_count": 29,
     "metadata": {},
     "output_type": "execute_result"
    }
   ],
   "source": [
    "max_round = []\n",
    "for year in years:\n",
    "    print(year)\n",
    "    rounds = data_iits3[data_iits3['Year'] == year].Round.unique()\n",
    "    max_round.append(max(rounds))\n",
    "    print(rounds)\n",
    "max_round"
   ]
  },
  {
   "cell_type": "code",
   "execution_count": 30,
   "id": "02758817",
   "metadata": {},
   "outputs": [],
   "source": [
    "data_iits4 = pd.DataFrame()\n",
    "\n",
    "for year, round_ in zip(years, max_round):\n",
    "    data_iits4 = pd.concat([data_iits4, data_iits3[(data_iits3['Year'] == year) & (data_iits3['Round'] == round_)]])\n",
    "\n",
    "data_iits4 = data_iits4.drop(['Round'], axis = 1)"
   ]
  },
  {
   "cell_type": "code",
   "execution_count": 31,
   "id": "c1308864",
   "metadata": {},
   "outputs": [
    {
     "data": {
      "text/html": [
       "<div>\n",
       "<style scoped>\n",
       "    .dataframe tbody tr th:only-of-type {\n",
       "        vertical-align: middle;\n",
       "    }\n",
       "\n",
       "    .dataframe tbody tr th {\n",
       "        vertical-align: top;\n",
       "    }\n",
       "\n",
       "    .dataframe thead th {\n",
       "        text-align: right;\n",
       "    }\n",
       "</style>\n",
       "<table border=\"1\" class=\"dataframe\">\n",
       "  <thead>\n",
       "    <tr style=\"text-align: right;\">\n",
       "      <th></th>\n",
       "      <th>Institute</th>\n",
       "      <th>Academic Program Name</th>\n",
       "      <th>Seat Type</th>\n",
       "      <th>Gender</th>\n",
       "      <th>Opening Rank</th>\n",
       "      <th>Closing Rank</th>\n",
       "      <th>Year</th>\n",
       "    </tr>\n",
       "  </thead>\n",
       "  <tbody>\n",
       "    <tr>\n",
       "      <th>21375</th>\n",
       "      <td>Indian Institute of Technology Bhubaneswar</td>\n",
       "      <td>Civil Engineering (4 Years, Bachelor of Techno...</td>\n",
       "      <td>OPEN</td>\n",
       "      <td>Gender-Neutral</td>\n",
       "      <td>5456.0</td>\n",
       "      <td>7066.0</td>\n",
       "      <td>2016</td>\n",
       "    </tr>\n",
       "    <tr>\n",
       "      <th>21376</th>\n",
       "      <td>Indian Institute of Technology Bhubaneswar</td>\n",
       "      <td>Civil Engineering (4 Years, Bachelor of Techno...</td>\n",
       "      <td>OBC-NCL</td>\n",
       "      <td>Gender-Neutral</td>\n",
       "      <td>1941.0</td>\n",
       "      <td>2487.0</td>\n",
       "      <td>2016</td>\n",
       "    </tr>\n",
       "    <tr>\n",
       "      <th>21377</th>\n",
       "      <td>Indian Institute of Technology Bhubaneswar</td>\n",
       "      <td>Civil Engineering (4 Years, Bachelor of Techno...</td>\n",
       "      <td>SC</td>\n",
       "      <td>Gender-Neutral</td>\n",
       "      <td>663.0</td>\n",
       "      <td>1178.0</td>\n",
       "      <td>2016</td>\n",
       "    </tr>\n",
       "    <tr>\n",
       "      <th>21378</th>\n",
       "      <td>Indian Institute of Technology Bhubaneswar</td>\n",
       "      <td>Civil Engineering (4 Years, Bachelor of Techno...</td>\n",
       "      <td>ST</td>\n",
       "      <td>Gender-Neutral</td>\n",
       "      <td>357.0</td>\n",
       "      <td>416.0</td>\n",
       "      <td>2016</td>\n",
       "    </tr>\n",
       "    <tr>\n",
       "      <th>21379</th>\n",
       "      <td>Indian Institute of Technology Bhubaneswar</td>\n",
       "      <td>Civil Engineering and M. Tech. in Structural E...</td>\n",
       "      <td>OPEN</td>\n",
       "      <td>Gender-Neutral</td>\n",
       "      <td>5408.0</td>\n",
       "      <td>7295.0</td>\n",
       "      <td>2016</td>\n",
       "    </tr>\n",
       "    <tr>\n",
       "      <th>...</th>\n",
       "      <td>...</td>\n",
       "      <td>...</td>\n",
       "      <td>...</td>\n",
       "      <td>...</td>\n",
       "      <td>...</td>\n",
       "      <td>...</td>\n",
       "      <td>...</td>\n",
       "    </tr>\n",
       "    <tr>\n",
       "      <th>51940</th>\n",
       "      <td>Indian Institute of Technology Dharwad</td>\n",
       "      <td>Mechanical Engineering (4 Years, Bachelor of T...</td>\n",
       "      <td>OBC-NCL</td>\n",
       "      <td>Female-only (including Supernumerary)</td>\n",
       "      <td>7459.0</td>\n",
       "      <td>8884.0</td>\n",
       "      <td>2022</td>\n",
       "    </tr>\n",
       "    <tr>\n",
       "      <th>51941</th>\n",
       "      <td>Indian Institute of Technology Dharwad</td>\n",
       "      <td>Mechanical Engineering (4 Years, Bachelor of T...</td>\n",
       "      <td>SC</td>\n",
       "      <td>Gender-Neutral</td>\n",
       "      <td>1709.0</td>\n",
       "      <td>2379.0</td>\n",
       "      <td>2022</td>\n",
       "    </tr>\n",
       "    <tr>\n",
       "      <th>51942</th>\n",
       "      <td>Indian Institute of Technology Dharwad</td>\n",
       "      <td>Mechanical Engineering (4 Years, Bachelor of T...</td>\n",
       "      <td>SC</td>\n",
       "      <td>Female-only (including Supernumerary)</td>\n",
       "      <td>3122.0</td>\n",
       "      <td>3122.0</td>\n",
       "      <td>2022</td>\n",
       "    </tr>\n",
       "    <tr>\n",
       "      <th>51943</th>\n",
       "      <td>Indian Institute of Technology Dharwad</td>\n",
       "      <td>Mechanical Engineering (4 Years, Bachelor of T...</td>\n",
       "      <td>ST</td>\n",
       "      <td>Gender-Neutral</td>\n",
       "      <td>1044.0</td>\n",
       "      <td>1095.0</td>\n",
       "      <td>2022</td>\n",
       "    </tr>\n",
       "    <tr>\n",
       "      <th>51944</th>\n",
       "      <td>Indian Institute of Technology Dharwad</td>\n",
       "      <td>Mechanical Engineering (4 Years, Bachelor of T...</td>\n",
       "      <td>ST</td>\n",
       "      <td>Female-only (including Supernumerary)</td>\n",
       "      <td>1389.0</td>\n",
       "      <td>1389.0</td>\n",
       "      <td>2022</td>\n",
       "    </tr>\n",
       "  </tbody>\n",
       "</table>\n",
       "<p>13689 rows × 7 columns</p>\n",
       "</div>"
      ],
      "text/plain": [
       "                                        Institute  \\\n",
       "21375  Indian Institute of Technology Bhubaneswar   \n",
       "21376  Indian Institute of Technology Bhubaneswar   \n",
       "21377  Indian Institute of Technology Bhubaneswar   \n",
       "21378  Indian Institute of Technology Bhubaneswar   \n",
       "21379  Indian Institute of Technology Bhubaneswar   \n",
       "...                                           ...   \n",
       "51940      Indian Institute of Technology Dharwad   \n",
       "51941      Indian Institute of Technology Dharwad   \n",
       "51942      Indian Institute of Technology Dharwad   \n",
       "51943      Indian Institute of Technology Dharwad   \n",
       "51944      Indian Institute of Technology Dharwad   \n",
       "\n",
       "                                   Academic Program Name Seat Type  \\\n",
       "21375  Civil Engineering (4 Years, Bachelor of Techno...      OPEN   \n",
       "21376  Civil Engineering (4 Years, Bachelor of Techno...   OBC-NCL   \n",
       "21377  Civil Engineering (4 Years, Bachelor of Techno...        SC   \n",
       "21378  Civil Engineering (4 Years, Bachelor of Techno...        ST   \n",
       "21379  Civil Engineering and M. Tech. in Structural E...      OPEN   \n",
       "...                                                  ...       ...   \n",
       "51940  Mechanical Engineering (4 Years, Bachelor of T...   OBC-NCL   \n",
       "51941  Mechanical Engineering (4 Years, Bachelor of T...        SC   \n",
       "51942  Mechanical Engineering (4 Years, Bachelor of T...        SC   \n",
       "51943  Mechanical Engineering (4 Years, Bachelor of T...        ST   \n",
       "51944  Mechanical Engineering (4 Years, Bachelor of T...        ST   \n",
       "\n",
       "                                      Gender  Opening Rank  Closing Rank  Year  \n",
       "21375                         Gender-Neutral        5456.0        7066.0  2016  \n",
       "21376                         Gender-Neutral        1941.0        2487.0  2016  \n",
       "21377                         Gender-Neutral         663.0        1178.0  2016  \n",
       "21378                         Gender-Neutral         357.0         416.0  2016  \n",
       "21379                         Gender-Neutral        5408.0        7295.0  2016  \n",
       "...                                      ...           ...           ...   ...  \n",
       "51940  Female-only (including Supernumerary)        7459.0        8884.0  2022  \n",
       "51941                         Gender-Neutral        1709.0        2379.0  2022  \n",
       "51942  Female-only (including Supernumerary)        3122.0        3122.0  2022  \n",
       "51943                         Gender-Neutral        1044.0        1095.0  2022  \n",
       "51944  Female-only (including Supernumerary)        1389.0        1389.0  2022  \n",
       "\n",
       "[13689 rows x 7 columns]"
      ]
     },
     "execution_count": 31,
     "metadata": {},
     "output_type": "execute_result"
    }
   ],
   "source": [
    "data_iits4"
   ]
  },
  {
   "cell_type": "code",
   "execution_count": 32,
   "id": "5337632f",
   "metadata": {},
   "outputs": [],
   "source": [
    "nirf = pd.read_csv('nirf.csv')"
   ]
  },
  {
   "cell_type": "code",
   "execution_count": 33,
   "id": "2f8bebd2",
   "metadata": {},
   "outputs": [
    {
     "data": {
      "text/html": [
       "<div>\n",
       "<style scoped>\n",
       "    .dataframe tbody tr th:only-of-type {\n",
       "        vertical-align: middle;\n",
       "    }\n",
       "\n",
       "    .dataframe tbody tr th {\n",
       "        vertical-align: top;\n",
       "    }\n",
       "\n",
       "    .dataframe thead th {\n",
       "        text-align: right;\n",
       "    }\n",
       "</style>\n",
       "<table border=\"1\" class=\"dataframe\">\n",
       "  <thead>\n",
       "    <tr style=\"text-align: right;\">\n",
       "      <th></th>\n",
       "      <th>Institute</th>\n",
       "      <th>Rank</th>\n",
       "    </tr>\n",
       "  </thead>\n",
       "  <tbody>\n",
       "    <tr>\n",
       "      <th>0</th>\n",
       "      <td>Indian Institute of Technology Bombay</td>\n",
       "      <td>1</td>\n",
       "    </tr>\n",
       "    <tr>\n",
       "      <th>1</th>\n",
       "      <td>Indian Institute of Technology Delhi</td>\n",
       "      <td>2</td>\n",
       "    </tr>\n",
       "    <tr>\n",
       "      <th>2</th>\n",
       "      <td>Indian Institute of Technology Madras</td>\n",
       "      <td>3</td>\n",
       "    </tr>\n",
       "    <tr>\n",
       "      <th>3</th>\n",
       "      <td>Indian Institute of Technology Kanpur</td>\n",
       "      <td>4</td>\n",
       "    </tr>\n",
       "    <tr>\n",
       "      <th>4</th>\n",
       "      <td>Indian Institute of Technology Roorkee</td>\n",
       "      <td>5</td>\n",
       "    </tr>\n",
       "    <tr>\n",
       "      <th>5</th>\n",
       "      <td>Indian Institute of Technology Kharagpur</td>\n",
       "      <td>6</td>\n",
       "    </tr>\n",
       "    <tr>\n",
       "      <th>6</th>\n",
       "      <td>Indian Institute of Technology Guwahati</td>\n",
       "      <td>7</td>\n",
       "    </tr>\n",
       "    <tr>\n",
       "      <th>7</th>\n",
       "      <td>Indian Institute of Technology Hyderabad</td>\n",
       "      <td>8</td>\n",
       "    </tr>\n",
       "    <tr>\n",
       "      <th>8</th>\n",
       "      <td>Indian Institute of Technology Indore</td>\n",
       "      <td>9</td>\n",
       "    </tr>\n",
       "    <tr>\n",
       "      <th>9</th>\n",
       "      <td>Indian Institute of Technology (BHU) Varanasi</td>\n",
       "      <td>10</td>\n",
       "    </tr>\n",
       "    <tr>\n",
       "      <th>10</th>\n",
       "      <td>Indian Institute of Technology (ISM) Dhanbad</td>\n",
       "      <td>11</td>\n",
       "    </tr>\n",
       "    <tr>\n",
       "      <th>11</th>\n",
       "      <td>Indian Institute of Technology Gandhinagar</td>\n",
       "      <td>12</td>\n",
       "    </tr>\n",
       "    <tr>\n",
       "      <th>12</th>\n",
       "      <td>Indian Institute of Technology Ropar</td>\n",
       "      <td>13</td>\n",
       "    </tr>\n",
       "    <tr>\n",
       "      <th>13</th>\n",
       "      <td>Indian Institute of Technology Jodhpur</td>\n",
       "      <td>14</td>\n",
       "    </tr>\n",
       "    <tr>\n",
       "      <th>14</th>\n",
       "      <td>Indian Institute of Technology Mandi</td>\n",
       "      <td>15</td>\n",
       "    </tr>\n",
       "    <tr>\n",
       "      <th>15</th>\n",
       "      <td>Indian Institute of Technology Patna</td>\n",
       "      <td>16</td>\n",
       "    </tr>\n",
       "    <tr>\n",
       "      <th>16</th>\n",
       "      <td>Indian Institute of Technology Bhubaneswar</td>\n",
       "      <td>17</td>\n",
       "    </tr>\n",
       "    <tr>\n",
       "      <th>17</th>\n",
       "      <td>Indian Institute of Technology Tirupati</td>\n",
       "      <td>18</td>\n",
       "    </tr>\n",
       "    <tr>\n",
       "      <th>18</th>\n",
       "      <td>Indian Institute of Technology Jammu</td>\n",
       "      <td>19</td>\n",
       "    </tr>\n",
       "    <tr>\n",
       "      <th>19</th>\n",
       "      <td>Indian Institute of Technology Palakkad</td>\n",
       "      <td>20</td>\n",
       "    </tr>\n",
       "    <tr>\n",
       "      <th>20</th>\n",
       "      <td>Indian Institute of Technology Bhilai</td>\n",
       "      <td>21</td>\n",
       "    </tr>\n",
       "    <tr>\n",
       "      <th>21</th>\n",
       "      <td>Indian Institute of Technology Dharwad</td>\n",
       "      <td>22</td>\n",
       "    </tr>\n",
       "    <tr>\n",
       "      <th>22</th>\n",
       "      <td>Indian Institute of Technology Goa</td>\n",
       "      <td>23</td>\n",
       "    </tr>\n",
       "  </tbody>\n",
       "</table>\n",
       "</div>"
      ],
      "text/plain": [
       "                                        Institute  Rank\n",
       "0           Indian Institute of Technology Bombay     1\n",
       "1            Indian Institute of Technology Delhi     2\n",
       "2           Indian Institute of Technology Madras     3\n",
       "3           Indian Institute of Technology Kanpur     4\n",
       "4          Indian Institute of Technology Roorkee     5\n",
       "5        Indian Institute of Technology Kharagpur     6\n",
       "6         Indian Institute of Technology Guwahati     7\n",
       "7        Indian Institute of Technology Hyderabad     8\n",
       "8           Indian Institute of Technology Indore     9\n",
       "9   Indian Institute of Technology (BHU) Varanasi    10\n",
       "10   Indian Institute of Technology (ISM) Dhanbad    11\n",
       "11     Indian Institute of Technology Gandhinagar    12\n",
       "12           Indian Institute of Technology Ropar    13\n",
       "13         Indian Institute of Technology Jodhpur    14\n",
       "14           Indian Institute of Technology Mandi    15\n",
       "15           Indian Institute of Technology Patna    16\n",
       "16     Indian Institute of Technology Bhubaneswar    17\n",
       "17        Indian Institute of Technology Tirupati    18\n",
       "18           Indian Institute of Technology Jammu    19\n",
       "19        Indian Institute of Technology Palakkad    20\n",
       "20          Indian Institute of Technology Bhilai    21\n",
       "21         Indian Institute of Technology Dharwad    22\n",
       "22             Indian Institute of Technology Goa    23"
      ]
     },
     "execution_count": 33,
     "metadata": {},
     "output_type": "execute_result"
    }
   ],
   "source": [
    "nirf"
   ]
  },
  {
   "cell_type": "code",
   "execution_count": 34,
   "id": "bfdb7957",
   "metadata": {},
   "outputs": [],
   "source": [
    "data_iits5 = data_iits4.copy()\n",
    "data_iits5 = pd.merge(data_iits5, nirf, on='Institute', how='inner')\n",
    "data_iits5 = data_iits5.rename(columns = {'Rank': 'Institute_ranked'})\n",
    "data_iits5 = data_iits5.drop(['Institute'], axis = 1) "
   ]
  },
  {
   "cell_type": "code",
   "execution_count": 35,
   "id": "7320353b",
   "metadata": {},
   "outputs": [
    {
     "data": {
      "text/html": [
       "<div>\n",
       "<style scoped>\n",
       "    .dataframe tbody tr th:only-of-type {\n",
       "        vertical-align: middle;\n",
       "    }\n",
       "\n",
       "    .dataframe tbody tr th {\n",
       "        vertical-align: top;\n",
       "    }\n",
       "\n",
       "    .dataframe thead th {\n",
       "        text-align: right;\n",
       "    }\n",
       "</style>\n",
       "<table border=\"1\" class=\"dataframe\">\n",
       "  <thead>\n",
       "    <tr style=\"text-align: right;\">\n",
       "      <th></th>\n",
       "      <th>Academic Program Name</th>\n",
       "      <th>Seat Type</th>\n",
       "      <th>Gender</th>\n",
       "      <th>Opening Rank</th>\n",
       "      <th>Closing Rank</th>\n",
       "      <th>Year</th>\n",
       "      <th>Institute_ranked</th>\n",
       "    </tr>\n",
       "  </thead>\n",
       "  <tbody>\n",
       "    <tr>\n",
       "      <th>0</th>\n",
       "      <td>Civil Engineering (4 Years, Bachelor of Techno...</td>\n",
       "      <td>OPEN</td>\n",
       "      <td>Gender-Neutral</td>\n",
       "      <td>5456.0</td>\n",
       "      <td>7066.0</td>\n",
       "      <td>2016</td>\n",
       "      <td>17</td>\n",
       "    </tr>\n",
       "    <tr>\n",
       "      <th>1</th>\n",
       "      <td>Civil Engineering (4 Years, Bachelor of Techno...</td>\n",
       "      <td>OBC-NCL</td>\n",
       "      <td>Gender-Neutral</td>\n",
       "      <td>1941.0</td>\n",
       "      <td>2487.0</td>\n",
       "      <td>2016</td>\n",
       "      <td>17</td>\n",
       "    </tr>\n",
       "    <tr>\n",
       "      <th>2</th>\n",
       "      <td>Civil Engineering (4 Years, Bachelor of Techno...</td>\n",
       "      <td>SC</td>\n",
       "      <td>Gender-Neutral</td>\n",
       "      <td>663.0</td>\n",
       "      <td>1178.0</td>\n",
       "      <td>2016</td>\n",
       "      <td>17</td>\n",
       "    </tr>\n",
       "    <tr>\n",
       "      <th>3</th>\n",
       "      <td>Civil Engineering (4 Years, Bachelor of Techno...</td>\n",
       "      <td>ST</td>\n",
       "      <td>Gender-Neutral</td>\n",
       "      <td>357.0</td>\n",
       "      <td>416.0</td>\n",
       "      <td>2016</td>\n",
       "      <td>17</td>\n",
       "    </tr>\n",
       "    <tr>\n",
       "      <th>4</th>\n",
       "      <td>Civil Engineering and M. Tech. in Structural E...</td>\n",
       "      <td>OPEN</td>\n",
       "      <td>Gender-Neutral</td>\n",
       "      <td>5408.0</td>\n",
       "      <td>7295.0</td>\n",
       "      <td>2016</td>\n",
       "      <td>17</td>\n",
       "    </tr>\n",
       "    <tr>\n",
       "      <th>...</th>\n",
       "      <td>...</td>\n",
       "      <td>...</td>\n",
       "      <td>...</td>\n",
       "      <td>...</td>\n",
       "      <td>...</td>\n",
       "      <td>...</td>\n",
       "      <td>...</td>\n",
       "    </tr>\n",
       "    <tr>\n",
       "      <th>13684</th>\n",
       "      <td>Petroleum Engineering (4 Years, Bachelor of Te...</td>\n",
       "      <td>OBC-NCL</td>\n",
       "      <td>Female-only (including Supernumerary)</td>\n",
       "      <td>7131.0</td>\n",
       "      <td>8597.0</td>\n",
       "      <td>2022</td>\n",
       "      <td>11</td>\n",
       "    </tr>\n",
       "    <tr>\n",
       "      <th>13685</th>\n",
       "      <td>Petroleum Engineering (4 Years, Bachelor of Te...</td>\n",
       "      <td>SC</td>\n",
       "      <td>Gender-Neutral</td>\n",
       "      <td>1993.0</td>\n",
       "      <td>2441.0</td>\n",
       "      <td>2022</td>\n",
       "      <td>11</td>\n",
       "    </tr>\n",
       "    <tr>\n",
       "      <th>13686</th>\n",
       "      <td>Petroleum Engineering (4 Years, Bachelor of Te...</td>\n",
       "      <td>SC</td>\n",
       "      <td>Female-only (including Supernumerary)</td>\n",
       "      <td>3101.0</td>\n",
       "      <td>3681.0</td>\n",
       "      <td>2022</td>\n",
       "      <td>11</td>\n",
       "    </tr>\n",
       "    <tr>\n",
       "      <th>13687</th>\n",
       "      <td>Petroleum Engineering (4 Years, Bachelor of Te...</td>\n",
       "      <td>ST</td>\n",
       "      <td>Gender-Neutral</td>\n",
       "      <td>812.0</td>\n",
       "      <td>1061.0</td>\n",
       "      <td>2022</td>\n",
       "      <td>11</td>\n",
       "    </tr>\n",
       "    <tr>\n",
       "      <th>13688</th>\n",
       "      <td>Petroleum Engineering (4 Years, Bachelor of Te...</td>\n",
       "      <td>ST</td>\n",
       "      <td>Female-only (including Supernumerary)</td>\n",
       "      <td>1499.0</td>\n",
       "      <td>1499.0</td>\n",
       "      <td>2022</td>\n",
       "      <td>11</td>\n",
       "    </tr>\n",
       "  </tbody>\n",
       "</table>\n",
       "<p>13689 rows × 7 columns</p>\n",
       "</div>"
      ],
      "text/plain": [
       "                                   Academic Program Name Seat Type  \\\n",
       "0      Civil Engineering (4 Years, Bachelor of Techno...      OPEN   \n",
       "1      Civil Engineering (4 Years, Bachelor of Techno...   OBC-NCL   \n",
       "2      Civil Engineering (4 Years, Bachelor of Techno...        SC   \n",
       "3      Civil Engineering (4 Years, Bachelor of Techno...        ST   \n",
       "4      Civil Engineering and M. Tech. in Structural E...      OPEN   \n",
       "...                                                  ...       ...   \n",
       "13684  Petroleum Engineering (4 Years, Bachelor of Te...   OBC-NCL   \n",
       "13685  Petroleum Engineering (4 Years, Bachelor of Te...        SC   \n",
       "13686  Petroleum Engineering (4 Years, Bachelor of Te...        SC   \n",
       "13687  Petroleum Engineering (4 Years, Bachelor of Te...        ST   \n",
       "13688  Petroleum Engineering (4 Years, Bachelor of Te...        ST   \n",
       "\n",
       "                                      Gender  Opening Rank  Closing Rank  \\\n",
       "0                             Gender-Neutral        5456.0        7066.0   \n",
       "1                             Gender-Neutral        1941.0        2487.0   \n",
       "2                             Gender-Neutral         663.0        1178.0   \n",
       "3                             Gender-Neutral         357.0         416.0   \n",
       "4                             Gender-Neutral        5408.0        7295.0   \n",
       "...                                      ...           ...           ...   \n",
       "13684  Female-only (including Supernumerary)        7131.0        8597.0   \n",
       "13685                         Gender-Neutral        1993.0        2441.0   \n",
       "13686  Female-only (including Supernumerary)        3101.0        3681.0   \n",
       "13687                         Gender-Neutral         812.0        1061.0   \n",
       "13688  Female-only (including Supernumerary)        1499.0        1499.0   \n",
       "\n",
       "       Year  Institute_ranked  \n",
       "0      2016                17  \n",
       "1      2016                17  \n",
       "2      2016                17  \n",
       "3      2016                17  \n",
       "4      2016                17  \n",
       "...     ...               ...  \n",
       "13684  2022                11  \n",
       "13685  2022                11  \n",
       "13686  2022                11  \n",
       "13687  2022                11  \n",
       "13688  2022                11  \n",
       "\n",
       "[13689 rows x 7 columns]"
      ]
     },
     "execution_count": 35,
     "metadata": {},
     "output_type": "execute_result"
    }
   ],
   "source": [
    "data_iits5"
   ]
  },
  {
   "cell_type": "code",
   "execution_count": 36,
   "id": "9e482d1f",
   "metadata": {},
   "outputs": [
    {
     "data": {
      "text/html": [
       "<div>\n",
       "<style scoped>\n",
       "    .dataframe tbody tr th:only-of-type {\n",
       "        vertical-align: middle;\n",
       "    }\n",
       "\n",
       "    .dataframe tbody tr th {\n",
       "        vertical-align: top;\n",
       "    }\n",
       "\n",
       "    .dataframe thead th {\n",
       "        text-align: right;\n",
       "    }\n",
       "</style>\n",
       "<table border=\"1\" class=\"dataframe\">\n",
       "  <thead>\n",
       "    <tr style=\"text-align: right;\">\n",
       "      <th></th>\n",
       "      <th>Gender</th>\n",
       "      <th>label</th>\n",
       "    </tr>\n",
       "  </thead>\n",
       "  <tbody>\n",
       "    <tr>\n",
       "      <th>0</th>\n",
       "      <td>Gender-Neutral</td>\n",
       "      <td>1</td>\n",
       "    </tr>\n",
       "    <tr>\n",
       "      <th>1</th>\n",
       "      <td>Female-only (including Supernumerary)</td>\n",
       "      <td>2</td>\n",
       "    </tr>\n",
       "  </tbody>\n",
       "</table>\n",
       "</div>"
      ],
      "text/plain": [
       "                                  Gender  label\n",
       "0                         Gender-Neutral      1\n",
       "1  Female-only (including Supernumerary)      2"
      ]
     },
     "execution_count": 36,
     "metadata": {},
     "output_type": "execute_result"
    }
   ],
   "source": [
    "Gender_labelled = pd.DataFrame({'Gender': ['Gender-Neutral', 'Female-only (including Supernumerary)'], 'label': [1,2]})\n",
    "Gender_labelled"
   ]
  },
  {
   "cell_type": "code",
   "execution_count": 37,
   "id": "6f9f27f9",
   "metadata": {},
   "outputs": [],
   "source": [
    "data_iits6 = data_iits5.copy()\n",
    "data_iits6 = pd.merge(data_iits6, Gender_labelled, on='Gender', how='inner')\n",
    "data_iits6 = data_iits6.rename(columns = {'label': 'Gender_labelled'})\n",
    "data_iits6 = data_iits6.drop(['Gender'], axis = 1)"
   ]
  },
  {
   "cell_type": "code",
   "execution_count": 38,
   "id": "fc086e93",
   "metadata": {},
   "outputs": [
    {
     "name": "stdout",
     "output_type": "stream",
     "text": [
      "<class 'pandas.core.frame.DataFrame'>\n",
      "RangeIndex: 13689 entries, 0 to 13688\n",
      "Data columns (total 7 columns):\n",
      " #   Column                 Non-Null Count  Dtype  \n",
      "---  ------                 --------------  -----  \n",
      " 0   Academic Program Name  13689 non-null  object \n",
      " 1   Seat Type              13689 non-null  object \n",
      " 2   Opening Rank           13689 non-null  float64\n",
      " 3   Closing Rank           13689 non-null  float64\n",
      " 4   Year                   13689 non-null  int64  \n",
      " 5   Institute_ranked       13689 non-null  int64  \n",
      " 6   Gender_labelled        13689 non-null  int64  \n",
      "dtypes: float64(2), int64(3), object(2)\n",
      "memory usage: 748.7+ KB\n"
     ]
    }
   ],
   "source": [
    "data_iits6.info()"
   ]
  },
  {
   "cell_type": "code",
   "execution_count": 39,
   "id": "cf7abf19",
   "metadata": {},
   "outputs": [
    {
     "data": {
      "text/plain": [
       "146"
      ]
     },
     "execution_count": 39,
     "metadata": {},
     "output_type": "execute_result"
    }
   ],
   "source": [
    "data_iits6['Academic Program Name'].nunique()"
   ]
  },
  {
   "cell_type": "code",
   "execution_count": 40,
   "id": "d61b1687",
   "metadata": {},
   "outputs": [
    {
     "data": {
      "text/plain": [
       "'Computer Science and Engineering (4 Years, Bachelor of Technology)'"
      ]
     },
     "execution_count": 40,
     "metadata": {},
     "output_type": "execute_result"
    }
   ],
   "source": [
    "d = data_iits6.copy()\n",
    "d['Academic Program Name'][64\n",
    "                          ]"
   ]
  },
  {
   "cell_type": "code",
   "execution_count": 41,
   "id": "4ba3b6e2",
   "metadata": {},
   "outputs": [
    {
     "data": {
      "text/html": [
       "<div>\n",
       "<style scoped>\n",
       "    .dataframe tbody tr th:only-of-type {\n",
       "        vertical-align: middle;\n",
       "    }\n",
       "\n",
       "    .dataframe tbody tr th {\n",
       "        vertical-align: top;\n",
       "    }\n",
       "\n",
       "    .dataframe thead th {\n",
       "        text-align: right;\n",
       "    }\n",
       "</style>\n",
       "<table border=\"1\" class=\"dataframe\">\n",
       "  <thead>\n",
       "    <tr style=\"text-align: right;\">\n",
       "      <th></th>\n",
       "      <th>Academic Program Name</th>\n",
       "      <th>Seat Type</th>\n",
       "      <th>Opening Rank</th>\n",
       "      <th>Closing Rank</th>\n",
       "      <th>Year</th>\n",
       "      <th>Institute_ranked</th>\n",
       "      <th>Gender_labelled</th>\n",
       "    </tr>\n",
       "  </thead>\n",
       "  <tbody>\n",
       "    <tr>\n",
       "      <th>7848</th>\n",
       "      <td>Computer Science and Engineering (4 Years, Bac...</td>\n",
       "      <td>OBC-NCL</td>\n",
       "      <td>1345.0</td>\n",
       "      <td>1593.0</td>\n",
       "      <td>2016</td>\n",
       "      <td>18</td>\n",
       "      <td>1</td>\n",
       "    </tr>\n",
       "    <tr>\n",
       "      <th>7868</th>\n",
       "      <td>Computer Science and Engineering (4 Years, Bac...</td>\n",
       "      <td>OBC-NCL</td>\n",
       "      <td>1332.0</td>\n",
       "      <td>1620.0</td>\n",
       "      <td>2017</td>\n",
       "      <td>18</td>\n",
       "      <td>1</td>\n",
       "    </tr>\n",
       "    <tr>\n",
       "      <th>7889</th>\n",
       "      <td>Computer Science and Engineering (4 Years, Bac...</td>\n",
       "      <td>OBC-NCL</td>\n",
       "      <td>1229.0</td>\n",
       "      <td>1774.0</td>\n",
       "      <td>2018</td>\n",
       "      <td>18</td>\n",
       "      <td>1</td>\n",
       "    </tr>\n",
       "    <tr>\n",
       "      <th>7912</th>\n",
       "      <td>Computer Science and Engineering (4 Years, Bac...</td>\n",
       "      <td>OBC-NCL</td>\n",
       "      <td>984.0</td>\n",
       "      <td>1318.0</td>\n",
       "      <td>2019</td>\n",
       "      <td>18</td>\n",
       "      <td>1</td>\n",
       "    </tr>\n",
       "    <tr>\n",
       "      <th>7936</th>\n",
       "      <td>Computer Science and Engineering (4 Years, Bac...</td>\n",
       "      <td>OBC-NCL</td>\n",
       "      <td>1112.0</td>\n",
       "      <td>1663.0</td>\n",
       "      <td>2020</td>\n",
       "      <td>18</td>\n",
       "      <td>1</td>\n",
       "    </tr>\n",
       "    <tr>\n",
       "      <th>7962</th>\n",
       "      <td>Computer Science and Engineering (4 Years, Bac...</td>\n",
       "      <td>OBC-NCL</td>\n",
       "      <td>934.0</td>\n",
       "      <td>1329.0</td>\n",
       "      <td>2021</td>\n",
       "      <td>18</td>\n",
       "      <td>1</td>\n",
       "    </tr>\n",
       "    <tr>\n",
       "      <th>7986</th>\n",
       "      <td>Computer Science and Engineering (4 Years, Bac...</td>\n",
       "      <td>OBC-NCL</td>\n",
       "      <td>1027.0</td>\n",
       "      <td>1432.0</td>\n",
       "      <td>2022</td>\n",
       "      <td>18</td>\n",
       "      <td>1</td>\n",
       "    </tr>\n",
       "  </tbody>\n",
       "</table>\n",
       "</div>"
      ],
      "text/plain": [
       "                                  Academic Program Name Seat Type  \\\n",
       "7848  Computer Science and Engineering (4 Years, Bac...   OBC-NCL   \n",
       "7868  Computer Science and Engineering (4 Years, Bac...   OBC-NCL   \n",
       "7889  Computer Science and Engineering (4 Years, Bac...   OBC-NCL   \n",
       "7912  Computer Science and Engineering (4 Years, Bac...   OBC-NCL   \n",
       "7936  Computer Science and Engineering (4 Years, Bac...   OBC-NCL   \n",
       "7962  Computer Science and Engineering (4 Years, Bac...   OBC-NCL   \n",
       "7986  Computer Science and Engineering (4 Years, Bac...   OBC-NCL   \n",
       "\n",
       "      Opening Rank  Closing Rank  Year  Institute_ranked  Gender_labelled  \n",
       "7848        1345.0        1593.0  2016                18                1  \n",
       "7868        1332.0        1620.0  2017                18                1  \n",
       "7889        1229.0        1774.0  2018                18                1  \n",
       "7912         984.0        1318.0  2019                18                1  \n",
       "7936        1112.0        1663.0  2020                18                1  \n",
       "7962         934.0        1329.0  2021                18                1  \n",
       "7986        1027.0        1432.0  2022                18                1  "
      ]
     },
     "execution_count": 41,
     "metadata": {},
     "output_type": "execute_result"
    }
   ],
   "source": [
    "a = d[(d['Academic Program Name'] == 'Computer Science and Engineering (4 Years, Bachelor of Technology)') & (d['Seat Type'] == 'OBC-NCL') & (d['Institute_ranked'] == 18) & (d['Gender_labelled'] == 1)]\n",
    "a"
   ]
  },
  {
   "cell_type": "code",
   "execution_count": null,
   "id": "d114e5b8",
   "metadata": {},
   "outputs": [],
   "source": []
  },
  {
   "cell_type": "code",
   "execution_count": null,
   "id": "3bcb5306",
   "metadata": {},
   "outputs": [],
   "source": []
  },
  {
   "cell_type": "code",
   "execution_count": null,
   "id": "1adbb9f9",
   "metadata": {},
   "outputs": [],
   "source": []
  },
  {
   "cell_type": "code",
   "execution_count": 42,
   "id": "d4d3247d",
   "metadata": {},
   "outputs": [
    {
     "name": "stdout",
     "output_type": "stream",
     "text": [
      "<class 'pandas.core.frame.DataFrame'>\n",
      "RangeIndex: 13689 entries, 0 to 13688\n",
      "Columns: 151 entries, Seat Type to Academic Program Name_Textile Technology (4 Years, Bachelor of Technology)\n",
      "dtypes: bool(146), float64(1), int64(3), object(1)\n",
      "memory usage: 2.4+ MB\n"
     ]
    }
   ],
   "source": [
    "data_iits7 = data_iits6.copy()\n",
    "data_iits7 = pd.get_dummies(data_iits7, columns=['Academic Program Name'])\n",
    "data_iits7 = data_iits7.drop(['Opening Rank'], axis = 1)\n",
    "data_iits7.info()"
   ]
  },
  {
   "cell_type": "code",
   "execution_count": 43,
   "id": "2003fe32",
   "metadata": {},
   "outputs": [
    {
     "data": {
      "text/html": [
       "<div>\n",
       "<style scoped>\n",
       "    .dataframe tbody tr th:only-of-type {\n",
       "        vertical-align: middle;\n",
       "    }\n",
       "\n",
       "    .dataframe tbody tr th {\n",
       "        vertical-align: top;\n",
       "    }\n",
       "\n",
       "    .dataframe thead th {\n",
       "        text-align: right;\n",
       "    }\n",
       "</style>\n",
       "<table border=\"1\" class=\"dataframe\">\n",
       "  <thead>\n",
       "    <tr style=\"text-align: right;\">\n",
       "      <th></th>\n",
       "      <th>0</th>\n",
       "    </tr>\n",
       "  </thead>\n",
       "  <tbody>\n",
       "    <tr>\n",
       "      <th>0</th>\n",
       "      <td>OPEN</td>\n",
       "    </tr>\n",
       "    <tr>\n",
       "      <th>1</th>\n",
       "      <td>OBC-NCL</td>\n",
       "    </tr>\n",
       "    <tr>\n",
       "      <th>2</th>\n",
       "      <td>SC</td>\n",
       "    </tr>\n",
       "    <tr>\n",
       "      <th>3</th>\n",
       "      <td>ST</td>\n",
       "    </tr>\n",
       "    <tr>\n",
       "      <th>4</th>\n",
       "      <td>OPEN (PwD)</td>\n",
       "    </tr>\n",
       "    <tr>\n",
       "      <th>5</th>\n",
       "      <td>OBC-NCL (PwD)</td>\n",
       "    </tr>\n",
       "    <tr>\n",
       "      <th>6</th>\n",
       "      <td>EWS</td>\n",
       "    </tr>\n",
       "    <tr>\n",
       "      <th>7</th>\n",
       "      <td>EWS (PwD)</td>\n",
       "    </tr>\n",
       "    <tr>\n",
       "      <th>8</th>\n",
       "      <td>SC (PwD)</td>\n",
       "    </tr>\n",
       "    <tr>\n",
       "      <th>9</th>\n",
       "      <td>ST (PwD)</td>\n",
       "    </tr>\n",
       "  </tbody>\n",
       "</table>\n",
       "</div>"
      ],
      "text/plain": [
       "               0\n",
       "0           OPEN\n",
       "1        OBC-NCL\n",
       "2             SC\n",
       "3             ST\n",
       "4     OPEN (PwD)\n",
       "5  OBC-NCL (PwD)\n",
       "6            EWS\n",
       "7      EWS (PwD)\n",
       "8       SC (PwD)\n",
       "9       ST (PwD)"
      ]
     },
     "execution_count": 43,
     "metadata": {},
     "output_type": "execute_result"
    }
   ],
   "source": [
    "seat_type = pd.DataFrame(data_iits7['Seat Type'].unique())\n",
    "seat_type"
   ]
  },
  {
   "cell_type": "code",
   "execution_count": 44,
   "id": "36f365f7",
   "metadata": {},
   "outputs": [
    {
     "data": {
      "text/plain": [
       "Seat Type\n",
       "OPEN             3051\n",
       "OBC-NCL          2960\n",
       "SC               2847\n",
       "ST               2086\n",
       "EWS              1781\n",
       "OPEN (PwD)        603\n",
       "OBC-NCL (PwD)     266\n",
       "EWS (PwD)          39\n",
       "SC (PwD)           39\n",
       "ST (PwD)           17\n",
       "Name: count, dtype: int64"
      ]
     },
     "execution_count": 44,
     "metadata": {},
     "output_type": "execute_result"
    }
   ],
   "source": [
    "data_iits7['Seat Type'].value_counts()"
   ]
  },
  {
   "cell_type": "code",
   "execution_count": 45,
   "id": "729df124",
   "metadata": {},
   "outputs": [],
   "source": [
    "from sklearn.model_selection import train_test_split\n",
    "from sklearn.linear_model import LinearRegression\n",
    "from sklearn.metrics import mean_squared_error, r2_score\n",
    "\n",
    "# def tt_split()\n",
    "\n",
    "# def fit_ml_model(group):\n",
    "#     model = LinearRegression()\n",
    "#     X = group.drop('Seat Type', axis=1)  # Use all numeric columns as features\n",
    "#     y = group['Closing Rank']  # The 'Category' column as the target\n",
    "#     X_train, X_test, y_train, y_test = train_test_split(X, y, test_size=0.2, random_state=42)\n",
    "#     model.fit(X_train, y_train)\n",
    "#     return model, X_test, y_test\n",
    "\n",
    "# # Group by 'Category' and apply a machine learning model to each group\n",
    "# seat_wise = data_iits7.groupby('Seat Type')\n",
    "# for a, b in seat_wise:\n",
    "#     print(a, b.columns)\n",
    "    "
   ]
  },
  {
   "cell_type": "code",
   "execution_count": 46,
   "id": "994a61e2",
   "metadata": {},
   "outputs": [],
   "source": [
    "values_to_remove = ['OPEN (PwD)', 'OBC-NCL (PwD)','EWS (PwD)', 'SC (PwD)', 'ST (PwD)']\n",
    "\n",
    "# Drop rows with the specified values in 'Column_Name'\n",
    "filtered_data = data_iits7.loc[~data_iits7['Seat Type'].isin(values_to_remove)]"
   ]
  },
  {
   "cell_type": "code",
   "execution_count": 47,
   "id": "0393594e",
   "metadata": {},
   "outputs": [
    {
     "name": "stdout",
     "output_type": "stream",
     "text": [
      "Group: EWS\n",
      "-6.4234719141023976e+16\n",
      "R-squared Score: -6.4234719141023976e+16\n",
      "====================\n",
      "Group: OBC-NCL\n",
      "0.8678682825232328\n",
      "R-squared Score: 0.8678682825232328\n",
      "====================\n",
      "Group: OPEN\n",
      "-8.080707295773378e+19\n",
      "R-squared Score: -8.080707295773378e+19\n",
      "====================\n",
      "Group: SC\n",
      "-2.2840537403270176e+21\n",
      "R-squared Score: -2.2840537403270176e+21\n",
      "====================\n",
      "Group: ST\n",
      "0.6416461813259862\n",
      "R-squared Score: 0.6416461813259862\n",
      "====================\n"
     ]
    }
   ],
   "source": [
    "import pandas as pd\n",
    "from sklearn.model_selection import train_test_split\n",
    "from sklearn.linear_model import LinearRegression\n",
    "from sklearn.metrics import r2_score\n",
    "\n",
    "data_iits8 = data_iits7.copy()\n",
    "# Separate features (X) and target (y)\n",
    "# X = data_iits8.drop('Seat Type', axis=1)\n",
    "# y = data_iits8['Seat Type']\n",
    "\n",
    "# Group the DataFrame by the 'Category' column\n",
    "# grouped_data = data_iits8.groupby('Seat Type')\n",
    "grouped_data = filtered_data.groupby('Seat Type')\n",
    "group_names = list(grouped_data.groups.keys())\n",
    "# Iterate through each group\n",
    "\n",
    "models = {}\n",
    "\n",
    "for group_name, group_df in grouped_data:\n",
    "    print(f\"Group: {group_name}\")\n",
    "    \n",
    "    # Separate features and target for the current group\n",
    "    X_group = group_df.drop(['Seat Type', 'Closing Rank'], axis=1)\n",
    "    y_group = group_df['Closing Rank']\n",
    "    \n",
    "    # Split the data into training and testing sets for the current group\n",
    "    X_train, X_test, y_train, y_test = train_test_split(X_group, y_group, test_size=0.2, random_state=12)\n",
    "    \n",
    "    # Create and train a Linear Regression model for the current group\n",
    "    model = LinearRegression()\n",
    "    model.fit(X_train, y_train)\n",
    "    \n",
    "    # Make predictions on the test data\n",
    "    y_pred = model.predict(X_test)\n",
    "    \n",
    "    # Evaluate the model's performance for the current group using R-squared score\n",
    "    r2 = r2_score(y_test, y_pred)\n",
    "    print(model.score(X_test,y_test))\n",
    "    print(\"R-squared Score:\", r2)\n",
    "    \n",
    "    print(\"=\" * 20)\n",
    "    \n",
    "    models[group_name] = model\n"
   ]
  },
  {
   "cell_type": "code",
   "execution_count": 48,
   "id": "26745330",
   "metadata": {},
   "outputs": [
    {
     "data": {
      "text/plain": [
       "Index(['Seat Type', 'Closing Rank', 'Year', 'Institute_ranked',\n",
       "       'Gender_labelled',\n",
       "       'Academic Program Name_Aerospace Engineering (4 Years, Bachelor of Technology)',\n",
       "       'Academic Program Name_Aerospace Engineering (5 Years, Bachelor and Master of Technology (Dual Degree))',\n",
       "       'Academic Program Name_Agricultural and Food Engineering (4 Years, Bachelor of Technology)',\n",
       "       'Academic Program Name_Agricultural and Food Engineering with M.Tech. in any of the listed specializations (5 Years, Bachelor and Master of Technology (Dual Degree))',\n",
       "       'Academic Program Name_Applied Geology (4 Years, Bachelor of Science)',\n",
       "       ...\n",
       "       'Academic Program Name_Pharmaceutics (5 Years, Bachelor and Master of Pharmaceutics(Dual Degree))',\n",
       "       'Academic Program Name_Physics (4 Years, Bachelor of Science)',\n",
       "       'Academic Program Name_Physics (5 Years, Bachelor of Science and Master of Science (Dual Degree))',\n",
       "       'Academic Program Name_Physics (5 Years, Integrated Master of Science)',\n",
       "       'Academic Program Name_Physics with Specialization (4 Years, Bachelor of Science)',\n",
       "       'Academic Program Name_Polymer Science and Engineering (4 Years, Bachelor of Technology)',\n",
       "       'Academic Program Name_Production and Industrial Engineering (4 Years, Bachelor of Technology)',\n",
       "       'Academic Program Name_Quality Engineering Design and Manufacturing (5 Years, Bachelor and Master of Technology (Dual Degree))',\n",
       "       'Academic Program Name_Statistics and Data Science (4 Years, Bachelor of Science)',\n",
       "       'Academic Program Name_Textile Technology (4 Years, Bachelor of Technology)'],\n",
       "      dtype='object', length=151)"
      ]
     },
     "execution_count": 48,
     "metadata": {},
     "output_type": "execute_result"
    }
   ],
   "source": [
    "data_iits8.columns"
   ]
  },
  {
   "cell_type": "code",
   "execution_count": 49,
   "id": "fd4d4ff9",
   "metadata": {},
   "outputs": [],
   "source": [
    "acad = 'Academic Program Name_Aerospace Engineering (4 Years, Bachelor of Technology)'\n",
    "t = [2022, 1, 1]"
   ]
  },
  {
   "cell_type": "code",
   "execution_count": 50,
   "id": "5ceb68a1",
   "metadata": {},
   "outputs": [],
   "source": [
    "df = data_iits4.copy()"
   ]
  },
  {
   "cell_type": "code",
   "execution_count": 51,
   "id": "7937154d",
   "metadata": {},
   "outputs": [
    {
     "data": {
      "text/plain": [
       "Index(['Institute', 'Academic Program Name', 'Quota', 'Seat Type', 'Gender',\n",
       "       'Opening Rank', 'Closing Rank', 'Year', 'Round'],\n",
       "      dtype='object')"
      ]
     },
     "execution_count": 51,
     "metadata": {},
     "output_type": "execute_result"
    }
   ],
   "source": [
    "data.columns"
   ]
  },
  {
   "cell_type": "code",
   "execution_count": 52,
   "id": "ecc729d1",
   "metadata": {},
   "outputs": [
    {
     "name": "stdout",
     "output_type": "stream",
     "text": [
      "Institute 125\n",
      "Academic Program Name 216\n",
      "Quota 2\n",
      "Seat Type 13\n",
      "Gender 37\n",
      "Opening Rank 9\n",
      "Closing Rank 9\n",
      "Year 4\n",
      "Round 1\n"
     ]
    }
   ],
   "source": [
    "\n",
    "for column in data.columns:\n",
    "    try:\n",
    "        print(column, data[column].str.len().max())\n",
    "    except:\n",
    "        print(column, data[column].astype(str).str.len().max())"
   ]
  },
  {
   "cell_type": "code",
   "execution_count": 62,
   "id": "22a5d114",
   "metadata": {},
   "outputs": [],
   "source": [
    "data.to_csv('data.csv', index = False)"
   ]
  },
  {
   "cell_type": "code",
   "execution_count": 60,
   "id": "90dc507c",
   "metadata": {},
   "outputs": [],
   "source": [
    "data['Closing Rank'] = data['Closing Rank'].astype(int)"
   ]
  },
  {
   "cell_type": "code",
   "execution_count": 61,
   "id": "5226d33c",
   "metadata": {},
   "outputs": [
    {
     "name": "stdout",
     "output_type": "stream",
     "text": [
      "<class 'pandas.core.frame.DataFrame'>\n",
      "Index: 298740 entries, 0 to 58873\n",
      "Data columns (total 9 columns):\n",
      " #   Column                 Non-Null Count   Dtype \n",
      "---  ------                 --------------   ----- \n",
      " 0   Institute              298740 non-null  object\n",
      " 1   Academic Program Name  298740 non-null  object\n",
      " 2   Quota                  298740 non-null  object\n",
      " 3   Seat Type              298740 non-null  object\n",
      " 4   Gender                 298740 non-null  object\n",
      " 5   Opening Rank           298740 non-null  int32 \n",
      " 6   Closing Rank           298740 non-null  int32 \n",
      " 7   Year                   298740 non-null  int64 \n",
      " 8   Round                  298740 non-null  int64 \n",
      "dtypes: int32(2), int64(2), object(5)\n",
      "memory usage: 20.5+ MB\n"
     ]
    }
   ],
   "source": [
    "data.info()"
   ]
  },
  {
   "cell_type": "code",
   "execution_count": null,
   "id": "d65142c0",
   "metadata": {},
   "outputs": [],
   "source": []
  },
  {
   "cell_type": "code",
   "execution_count": null,
   "id": "fbca5bc4",
   "metadata": {},
   "outputs": [],
   "source": []
  },
  {
   "cell_type": "code",
   "execution_count": null,
   "id": "79f9b68d",
   "metadata": {},
   "outputs": [],
   "source": []
  },
  {
   "cell_type": "code",
   "execution_count": null,
   "id": "f614241d",
   "metadata": {},
   "outputs": [],
   "source": []
  },
  {
   "cell_type": "code",
   "execution_count": null,
   "id": "4208b812",
   "metadata": {},
   "outputs": [],
   "source": []
  },
  {
   "cell_type": "code",
   "execution_count": null,
   "id": "293c9441",
   "metadata": {},
   "outputs": [],
   "source": []
  },
  {
   "cell_type": "code",
   "execution_count": null,
   "id": "b6359142",
   "metadata": {},
   "outputs": [],
   "source": []
  },
  {
   "cell_type": "code",
   "execution_count": null,
   "id": "97193fa2",
   "metadata": {},
   "outputs": [],
   "source": []
  },
  {
   "cell_type": "code",
   "execution_count": null,
   "id": "c5d5a7b3",
   "metadata": {},
   "outputs": [],
   "source": []
  },
  {
   "cell_type": "code",
   "execution_count": null,
   "id": "1143e2cf",
   "metadata": {},
   "outputs": [],
   "source": []
  },
  {
   "cell_type": "code",
   "execution_count": null,
   "id": "808418ac",
   "metadata": {},
   "outputs": [],
   "source": []
  },
  {
   "cell_type": "code",
   "execution_count": null,
   "id": "c4fabf54",
   "metadata": {},
   "outputs": [],
   "source": []
  },
  {
   "cell_type": "code",
   "execution_count": null,
   "id": "e16fd922",
   "metadata": {},
   "outputs": [],
   "source": []
  }
 ],
 "metadata": {
  "kernelspec": {
   "display_name": "Python 3",
   "language": "python",
   "name": "python3"
  },
  "language_info": {
   "codemirror_mode": {
    "name": "ipython",
    "version": 3
   },
   "file_extension": ".py",
   "mimetype": "text/x-python",
   "name": "python",
   "nbconvert_exporter": "python",
   "pygments_lexer": "ipython3",
   "version": "3.8.8"
  }
 },
 "nbformat": 4,
 "nbformat_minor": 5
}
